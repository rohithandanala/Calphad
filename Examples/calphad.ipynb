{
 "cells": [
  {
   "cell_type": "markdown",
   "id": "a10d6aee",
   "metadata": {},
   "source": [
    "# Calphad\n",
    "\n",
    "## Importing libraries"
   ]
  },
  {
   "cell_type": "code",
   "execution_count": 8,
   "id": "a264a866",
   "metadata": {},
   "outputs": [],
   "source": [
    "import os\n",
    "#change dir location to current script location\n",
    "os.chdir(os.getcwd())\n",
    "\n",
    "from data_reader import data_reader\n",
    "from calphad import CEF, select_element, select_phases, grab_phases, create_phases, print_params, save_to_csv\n",
    "from save_data import save_data"
   ]
  },
  {
   "cell_type": "markdown",
   "id": "6e564084",
   "metadata": {},
   "source": [
    "## Scanning database file\n",
    "Create a data_reader() object and run scan_data() function to scan .tdb database. If the database file located in another location pass its path as argument. The function is capable of determining suitable files and list out their names to coose. If any fixed file needed to be used pass file name as argument."
   ]
  },
  {
   "cell_type": "code",
   "execution_count": 13,
   "id": "625f7101",
   "metadata": {},
   "outputs": [
    {
     "name": "stdout",
     "output_type": "stream",
     "text": [
      "1 . al.TDB\n",
      "2 . mc_al.tdb\n",
      "3 . mc_fe_v2.060.tdb\n",
      "4 . mc_ni_v2.034.tdb\n",
      "5 . solders.tdb\n",
      "6 . test_data.tdb\n",
      "7 . unary50.tdb\n",
      "choose the file: 3\n",
      "mc_fe_v2.060.tdb\n",
      "file name:  mc_fe_v2.060.tdb\n"
     ]
    }
   ],
   "source": [
    "data = data_reader()\n",
    "data.scan_data(path = './data')"
   ]
  },
  {
   "cell_type": "markdown",
   "id": "03dd18af",
   "metadata": {},
   "source": [
    "## Selecting elements and their composition"
   ]
  },
  {
   "cell_type": "code",
   "execution_count": 14,
   "id": "40ead388",
   "metadata": {},
   "outputs": [
    {
     "name": "stdout",
     "output_type": "stream",
     "text": [
      "Avalable elements :\n",
      "1 .  VA\n",
      "2 .  AL\n",
      "3 .  B\n",
      "4 .  C\n",
      "5 .  CO\n",
      "6 .  CR\n",
      "7 .  CU\n",
      "8 .  FE\n",
      "9 .  H\n",
      "10 .  HF\n",
      "11 .  LA\n",
      "12 .  MN\n",
      "13 .  MO\n",
      "14 .  N\n",
      "15 .  NB\n",
      "16 .  NI\n",
      "17 .  O\n",
      "18 .  P\n",
      "19 .  PD\n",
      "20 .  S\n",
      "21 .  SI\n",
      "22 .  TI\n",
      "23 .  V\n",
      "24 .  W\n",
      "25 .  Y\n",
      "select elements :1,2,8,4,16\n",
      "selected elements : ['VA', 'AL', 'FE', 'C', 'NI']\n",
      "reference element not found.\n",
      "setting C as reference element.\n",
      "AL :2\n",
      "FE :92\n",
      "NI :2\n",
      "C : 4.0   -reference element.\n"
     ]
    }
   ],
   "source": [
    "ele, comp = select_element(data)"
   ]
  },
  {
   "cell_type": "markdown",
   "id": "ff871e97",
   "metadata": {},
   "source": [
    "## Selection of phases\n",
    "Run grab_phases() to fetch possibly occuring phase list according to selected elements. Use select_phases() to select phases require to calculate."
   ]
  },
  {
   "cell_type": "code",
   "execution_count": 15,
   "id": "4b3ae3ea",
   "metadata": {},
   "outputs": [
    {
     "name": "stdout",
     "output_type": "stream",
     "text": [
      "available phases:\n",
      "1 . FCC_A1 : AL,CO,CR,CU,FE%,HF,LA,MN,MO,NB,NI,P,PD,S,SI,TI,V, W,Y : B,C,H,N,O,VA% : !\n",
      "2 . BCC_A2 : AL,CO,CR,CU,FE%,HF,LA,MN,MO,NB,NI,P,PD,S,SI,TI, V,W,Y : B,C,H,N,O,VA% : !\n",
      "3 . H_BCC : FE% : H,VA% : !\n",
      "4 . BCC_DISL : AL,CO,CR,CU,FE%,MN,MO,NB,NI,S,SI,TI,V,W : B,C,N,VA% : !\n",
      "5 . HCP_A3 : AL,CO%,CR,CU,FE,HF,MN,MO,NB,NI,PD,SI,TI%,V,W,Y : B,C,N,O,VA% : !\n",
      "6 . ALPHA_MN : AL,CO,CR,CU,FE,MN%,MO,NI,PD,SI,V : C,N,VA% : !\n",
      "7 . BETA_MN : AL,CO,CR,CU,FE,MN%,NI,MO,PD,SI,V : C,N,VA% : !\n",
      "8 . BCC_B2 : AL,CR,CO,FE,MN,MO,NI%,SI,TI : AL%,CR,CO,FE,MN,MO,NI,SI,TI : C,VA% : !\n",
      "9 . K_CARB : FE,MN : AL : C,VA : !\n",
      "10 . KSI_CARBIDE :AL,CO,CR,CU,FE,MN,MO%,NB,NI,SI,TI, V,W : C,VA% : !\n",
      "11 . EPS_CARB :AL,CO,CR,CU,FE%,MN,MO,NB,NI,SI,TI,V,W : C%,VA : !\n",
      "12 . ETA_CARB : AL,CO,CR,CU,FE%,MN,MO,NB,NI,SI,TI,V,W : C%,VA : !\n",
      "13 . FE24C10 :AL,CO,CR,CU,FE%,MN,MO,NB,NI,SI,TI,V,W : C%,VA : !\n",
      "14 . KSI_FE5C2 :AL,CO,CR,CU,FE%,MN,MO,NB,NI,SI,TI,V,W : C%,VA : !\n",
      "15 . TIB2 : B,CR%,FE,TI% : B%,CR,FE,TI,VA : !\n",
      "16 . LIQUID : AL,B,C,CO,CR,CU,FE,HF,LA,MN,MO,N,NB,NI,P,PD,S,SI, TI,V,W,Y : !\n",
      "17 . DIAMOND_A4 : AL,B,C,SI%,TI : !\n",
      "18 . ETA : AL,FE,NI%,TI : AL,FE,NI,TI% : !\n",
      "19 . CEMENTITE : AL,CO,CR,CU,FE%,MN,MO,NB,NI,SI,V,W : B,C%,N : !\n",
      "20 . LAVES_PHASE : CO,CR,FE%,MN,MO,NB,NI,SI,TI,V,W : CO,CR,FE,MN,MO,NB,NI,SI,TI,V,W : !\n",
      "21 . MU_PHASE_I : CO,FE%,MO : CO%,FE,MO,SI : CO,FE,MO%,SI : CO,FE,MO% : !\n",
      "22 . PDFE_L12 : FE%,MN,PD : FE,MN,PD% : !\n",
      "23 . PDMN_P : FE,MN%,PD : FE,MN,PD% : !\n",
      "24 . PDMN_B2 : FE,MN,PD% : FE,MN%,PD : !\n",
      "25 . M6C : CO,CR,FE%,MO,V,W : CO,CR,FE,MO,NI,SI,V,W : CO,FE,MO,NI,SI,V,W : C%,N : !\n",
      "26 . M7C3 : CO,CR,FE,MN,MO,NI,SI,V,W : C : !\n",
      "27 . M23C6 : CO,CR,FE,MN,NI,V : CO,CR,FE,MN,MO,NI,V,W : B,C% : !\n",
      "28 . GRAPHITE : B,C% : !\n",
      "29 . MNNI : CU,MN%,NI : CU,MN,NI% : !\n",
      "30 . MNNI2 : MN%,NI : NI : !\n",
      "31 . NITI2 : NI,TI% : NI%,TI : !\n",
      "select phases :1,8,3\n",
      "selected phases : ['FCC_A1', 'BCC_B2', 'H_BCC']\n"
     ]
    }
   ],
   "source": [
    "phases = grab_phases(ele, data)\n",
    "sel_phase = select_phases(phases, data)"
   ]
  },
  {
   "cell_type": "markdown",
   "id": "2433a24b",
   "metadata": {},
   "source": [
    "## Creating phase objects"
   ]
  },
  {
   "cell_type": "code",
   "execution_count": 16,
   "id": "4ef52c29",
   "metadata": {},
   "outputs": [
    {
     "name": "stdout",
     "output_type": "stream",
     "text": [
      "Creating FCC_A1 phase.\n",
      "['VA', 'AL', 'FE', 'C', 'NI'] are existed in FCC_A1\n",
      "VA - 0.0\n",
      "AL - 0.03549036427603186\n",
      "FE - 0.7887423752950549\n",
      "C - 0.15945128354480473\n",
      "NI - 0.016315976884108446\n",
      "Creating BCC_B2 phase.\n",
      "['VA', 'AL', 'FE', 'C', 'NI'] are existed in BCC_B2\n",
      "VA - 0.0\n",
      "AL - 0.03549036427603186\n",
      "FE - 0.7887423752950549\n",
      "C - 0.15945128354480473\n",
      "NI - 0.016315976884108446\n",
      "['BCC_A2'] attached to BCC_B2 \n",
      "\n",
      "Creating H_BCC phase.\n",
      "['VA', 'FE'] are existed in H_BCC\n",
      "VA - 0.0\n",
      "FE - 1.0\n"
     ]
    }
   ],
   "source": [
    "p_ob = create_phases(sel_phase, data, ele, comp)"
   ]
  },
  {
   "cell_type": "code",
   "execution_count": 18,
   "id": "9d9fd6cc",
   "metadata": {},
   "outputs": [
    {
     "name": "stdout",
     "output_type": "stream",
     "text": [
      "***** FCC_A1 *****\n",
      "{'HMVA(FCC_A1,AL:VA;0)': [['273.00', '+64200'], ['6000.00', 'N']], 'HMVA(FCC_A1,AL:C;0)': [['273.00', '+64200'], ['6000.00', 'N']], 'HMVA(FCC_A1,FE:VA;0)': [['273.00', '+175000'], ['6000.00', 'N']], 'HMVA(FCC_A1,FE:C;0)': [['273.00', '+175000'], ['6000.00', 'N']], 'HMVA(FCC_A1,NI:VA;0)': [['273.00', '+170000'], ['6000.00', 'N']], 'HMVA(FCC_A1,NI:C;0)': [['273.00', '+170000'], ['6000.00', 'N']], 'G(FCC_A1,AL:VA;0)': [['273.00', '+GHSERAL#'], ['2900.00', 'N']], 'G(FCC_A1,FE:VA;0)': [['273.00', '-1462.4+8.282*T-1.15*T*LN(T)+0.00064*T**2+GHSERFE#'], ['1811.00', '-1713.815+0.94001*T+0.4925095E+31*T**(-9)+GHSERFE#'], ['6000.00', 'N']], 'G(FCC_A1,NI:VA;0)': [['273.00', '+GHSERNI#'], ['3000.00', 'N']], 'G(FCC_A1,AL:C;0)': [['273.00', '+GHSERAL#+GHSERCC#+81000'], ['6000.00', 'N']], 'G(FCC_A1,FE:C;0)': [['273.00', '+77207-15.877*T+GFEFCC#+GHSERCC#'], ['6000.00', 'N']], 'G(FCC_A1,NI:C;0)': [['273.00', '+GHSERNI#+GHSERCC#+62000-7.6*T'], ['6000.00', 'N']], 'L(FCC_A1,AL,FE:VA;0)': [['273.00', '-97000+26*T'], ['6000.00', 'N']], 'L(FCC_A1,AL,FE:VA;1)': [['273.00', '+22600'], ['6000.00', 'N']], 'L(FCC_A1,AL,FE:VA;2)': [['273.00', '+29100-13*T'], ['6000.00', 'N']], 'L(FCC_A1,AL,NI:VA;0)': [['273.00', '-162407.750+16.212965*T'], ['6000.00', 'N']], 'L(FCC_A1,AL,NI:VA;1)': [['273.00', '+73417.798-34.914*T'], ['6000.00', 'N']], 'L(FCC_A1,AL,NI:VA;2)': [['273.00', '+33471.014-9.837*T'], ['6000.00', 'N']], 'L(FCC_A1,AL,NI:VA;3)': [['273.00', '-30758.010+10.253*T'], ['6000.00', 'N']], 'L(FCC_A1,FE,NI:VA;0)': [['273.00', '-12054.355+3.27413*T'], ['6000.00', 'N']], 'L(FCC_A1,FE,NI:VA;1)': [['273.00', '+11082.1315-4.45077*T'], ['6000.00', 'N']], 'L(FCC_A1,FE,NI:VA;2)': [['273.00', '-725.805174'], ['6000.00', 'N']], 'L(FCC_A1,AL,FE:C;0)': [['273.00', '-104000+80*T'], ['6000.00', 'N']], 'L(FCC_A1,AL,FE:C;1)': [['273.00', '+81000'], ['6000.00', 'N']], 'L(FCC_A1,AL,FE:C;2)': [['273.00', '+1e-8'], ['6000.00', 'N']], 'L(FCC_A1,AL,FE:C,VA;0)': [['273.00', '+1e-8'], ['6000.00', 'N']], 'L(FCC_A1,AL,FE:C,VA;1)': [['273.00', '+1e-8'], ['6000.00', 'N']], 'L(FCC_A1,AL,NI:C;0)': [['273.00', '+1e-8'], ['6000.00', 'N']], 'L(FCC_A1,FE,NI:C;0)': [['273.00', '+49074-7.32*T'], ['6000.00', 'N']], 'L(FCC_A1,FE,NI:C;1)': [['273.00', '-25800'], ['6000.00', 'N']], 'L(FCC_A1,AL:C,VA;0)': [['273.00', '-80000+8*T'], ['6000.00', 'N']], 'L(FCC_A1,FE:C,VA;0)': [['273.00', '-34671'], ['6000.00', 'N']], 'L(FCC_A1,NI:C,VA;0)': [['273.00', '-14902+7.5*T'], ['6000.00', 'N']], 'L(FCC_A1,AL,FE,NI:VA;0)': [['273.00', '+1e-8'], ['6000.00', 'N']], 'L(FCC_A1,AL,FE,NI:VA;1)': [['273.00', '-77900'], ['6000.00', 'N']], 'L(FCC_A1,AL,FE,NI:VA;2)': [['273.00', '+60000'], ['6000.00', 'N']], 'TC(FCC_A1,AL,NI:VA;0)': [['273.00', '-1112'], ['6000.00', 'N']], 'TC(FCC_A1,AL,NI:VA;1)': [['273.00', '+1745'], ['6000.00', 'N']], 'TC(FCC_A1,FE:VA;0)': [['273.00', '-201'], ['6000.00', 'N']], 'BMAGN(FCC_A1,FE:VA;0)': [['273.00', '-2.1'], ['6000.00', 'N']], 'TC(FCC_A1,FE,NI:VA;0)': [['273.00', '+2133'], ['6000.00', 'N']], 'TC(FCC_A1,FE,NI:VA;1)': [['273.00', '-682'], ['6000.00', 'N']], 'BMAGN(FCC_A1,FE,NI:VA;0)': [['273.00', '+9.55'], ['6000.00', 'N']], 'BMAGN(FCC_A1,FE,NI:VA;1)': [['273.00', '+7.23'], ['6000.00', 'N']], 'BMAGN(FCC_A1,FE,NI:VA;2)': [['273.00', '+5.93'], ['6000.00', 'N']], 'BMAGN(FCC_A1,FE,NI:VA;3)': [['273.00', '+6.18'], ['6000.00', 'N']], 'TC(FCC_A1,FE:C;0)': [['273.00', '-201'], ['6000.00', 'N']], 'BMAGN(FCC_A1,FE:C;0)': [['273.00', '-2.1'], ['6000.00', 'N']], 'TC(FCC_A1,NI:VA;0)': [['273.00', '+633'], ['6000.00', 'N']], 'BMAGN(FCC_A1,NI:VA;0)': [['273.00', '+0.52'], ['6000.00', 'N']], 'TC(FCC_A1,NI:C;0)': [['273.00', '+633'], ['6000.00', 'N']], 'BMAGN(FCC_A1,NI:C;0)': [['273.00', '+0.52'], ['6000.00', 'N']]}\n",
      "***** BCC_B2 *****\n",
      "{'G(BCC_B2,AL:NI:VA;0)': [['273.00', '+0.5*B2ALNI#-0.5*LB2ALNI#'], ['6000.00', 'N']], 'G(BCC_B2,NI:NI:VA;0)': [['273.00', '+1E-8'], ['6000.00', 'N']], 'G(BCC_B2,NI:AL:VA;0)': [['273.00', '+0.5*B2ALNI#-0.5*LB2ALNI#'], ['6000.00', 'N']], 'G(BCC_B2,AL:AL:VA;0)': [['273.00', '+1E-7'], ['6000.00', 'N']], 'G(BCC_B2,NI:FE:VA;0)': [['273.00', '-2000'], ['6000.00', 'N']], 'G(BCC_B2,FE:NI:VA;0)': [['273.00', '-2000'], ['6000.00', 'N']], 'G(BCC_B2,AL:FE:VA;0)': [['273.00', '-15000'], ['6000.00', 'N']], 'G(BCC_B2,FE:AL:VA;0)': [['273.00', '-15000'], ['6000.00', 'N']], 'TC(BCC_B2,AL:FE:VA;0)': [['273.00', '+1e-8'], ['6000.00', 'N']], 'TC(BCC_B2,FE:AL:VA;0)': [['273.00', '+1e-8'], ['6000.00', 'N']], 'BMAGN(BCC_B2,AL:FE:VA;0)': [['273.00', '+1e-8'], ['6000.00', 'N']], 'BMAGN(BCC_B2,FE:AL:VA;0)': [['273.00', '+1e-8'], ['6000.00', 'N']], 'TC(BCC_B2,NI:FE:VA;0)': [['273.00', '+1e-8'], ['6000.00', 'N']], 'TC(BCC_B2,FE:NI:VA;0)': [['273.00', '+1e-8'], ['6000.00', 'N']], 'L(BCC_B2,AL,NI:NI:VA;0)': [['273.00', '+1e-8'], ['6000.00', 'N']], 'L(BCC_B2,NI:AL,NI:VA;0)': [['273.00', '+1e-8'], ['6000.00', 'N']], 'L(BCC_B2,AL,NI:NI:VA;1)': [['273.00', '-8000+5*T'], ['6000.00', 'N']], 'L(BCC_B2,NI:AL,NI:VA;1)': [['273.00', '-8000+5*T'], ['6000.00', 'N']], 'L(BCC_B2,AL,NI:FE:VA;0)': [['273.00', '-30000'], ['6000.00', 'N']], 'L(BCC_B2,FE:AL,NI:VA;0)': [['273.00', '-30000'], ['6000.00', 'N']], 'L(BCC_B2,AL,FE:NI:VA;0)': [['273.00', '-25000'], ['6000.00', 'N']], 'L(BCC_B2,NI:AL,FE:VA;0)': [['273.00', '-25000'], ['6000.00', 'N']], 'L(BCC_B2,FE,NI:AL:VA;0)': [['273.00', '-30000'], ['6000.00', 'N']], 'L(BCC_B2,FE,NI:AL:VA;1)': [['273.00', '-10000'], ['6000.00', 'N']], 'L(BCC_B2,FE,NI:AL:VA;2)': [['273.00', '+10000'], ['6000.00', 'N']], 'L(BCC_B2,AL:FE,NI:VA;0)': [['273.00', '-30000'], ['6000.00', 'N']], 'L(BCC_B2,AL:FE,NI:VA;1)': [['273.00', '-10000'], ['6000.00', 'N']], 'L(BCC_B2,AL:FE,NI:VA;2)': [['273.00', '+10000'], ['6000.00', 'N']], 'L(BCC_B2,AL,NI:FE:VA;1)': [['273.00', '0'], ['6000.00', 'N']], 'L(BCC_B2,FE:AL,NI:VA;1)': [['273.00', '0'], ['6000.00', 'N']], 'L(BCC_B2,AL,FE:NI:VA;1)': [['273.00', '0'], ['6000.00', 'N']], 'L(BCC_B2,NI:AL,FE:VA;1)': [['273.00', '0'], ['6000.00', 'N']], 'HMVA(BCC_A2,FE:VA;0)': [['273.00', '+163000'], ['6000.00', 'N']], 'HMVA(BCC_A2,FE:C;0)': [['273.00', '+163000'], ['6000.00', 'N']], 'G(BCC_A2,AL:VA;0)': [['273.00', '+10083-4.813*T+GHSERAL#'], ['2900.00', 'N']], 'G(BCC_A2,FE:VA;0)': [['273.00', '+GHSERFE#'], ['6000.00', 'N']], 'G(BCC_A2,NI:VA;0)': [['273.00', '+8715.084-3.556*T+GHSERNI#'], ['3000.00', 'N']], 'G(BCC_A2,AL:C;0)': [['273.00', '+GHSERAL#+3*GHSERCC#+100000+80*T'], ['6000.0', 'N']], 'G(BCC_A2,FE:C;0)': [['273.00', '+322050+75.667*T+GHSERFE#+3*GHSERCC#'], ['6000.00', 'N']], 'G(BCC_A2,NI:C;0)': [['273.00', '+400000-100*T+GHSERNI#+3*GHSERCC#'], ['6000.00', 'N']], 'L(BCC_A2,AL,FE:VA;0)': [['273.00', '-122960+31.9888*T'], ['6000.00', 'N']], 'L(BCC_A2,AL,FE:VA;1)': [['273.00', '+3089.2'], ['6000.00', 'N']], 'L(BCC_A2,AL,NI:VA;0)': [['273.00', '+B2ALNI#+LB2ALNI#'], ['6000.00', 'N']], 'L(BCC_A2,FE,NI:VA;0)': [['273.00', '-956.63-1.28726*T'], ['6000.00', 'N']], 'L(BCC_A2,FE,NI:VA;1)': [['273.00', '+5000-5*T'], ['6000.00', 'N']], 'L(BCC_A2,AL,FE:C;0)': [['273.00', '+1e-8'], ['6000.00', 'N']], 'L(BCC_A2,AL,FE:C;1)': [['273.00', '+1e-8'], ['6000.00', 'N']], 'L(BCC_A2,FE,NI:C;0)': [['273.00', '-956.63-1.28726*T'], ['6000.00', 'N']], 'L(BCC_A2,FE,NI:C;1)': [['273.00', '+1789.03-1.92912*T'], ['6000.00', 'N']], 'L(BCC_A2,AL:C,VA;0)': [['273.00', '+130000+14*T'], ['6000.00', 'N']], 'L(BCC_A2,FE:C,VA;0)': [['273.00', '-190*T'], ['6000.00', 'N']], 'L(BCC_A2,AL,FE,NI:VA;0)': [['273.00', '-110700+34*T'], ['6000.00', 'N']], 'L(BCC_A2,AL,FE,NI:VA;1)': [['273.00', '-27000-1.1*T'], ['6000.00', 'N']], 'L(BCC_A2,AL,FE,NI:VA;2)': [['273.00', '-204500+107*T'], ['6000.00', 'N']], 'TC(BCC_A2,FE:VA;0)': [['273.00', '+1043'], ['6000.00', 'N']], 'BMAGN(BCC_A2,FE:VA;0)': [['273.00', '+2.22'], ['6000.00', 'N']], 'TC(BCC_A2,NI:VA;0)': [['273.00', '+575'], ['6000.00', 'N']], 'BMAGN(BCC_A2,NI:VA;0)': [['273.00', '+0.85'], ['6000.00', 'N']], 'TC(BCC_A2,AL,FE:VA;1)': [['273.00', '+504'], ['6000.00', 'N']], 'TC(BCC_A2,FE:C;0)': [['273.00', '+1043'], ['6000.00', 'N']], 'BMAGN(BCC_A2,FE:C;0)': [['273.00', '+2.22'], ['6000.00', 'N']], 'TC(BCC_A2,NI:C;0)': [['273.00', '+575'], ['6000.00', 'N']], 'BMAGN(BCC_A2,NI:C;0)': [['273.00', '+0.85'], ['6000.00', 'N']]}\n",
      "***** H_BCC *****\n",
      "{'G(H_BCC,FE:VA;0)': [['273.00', '+GHSERFE#'], ['6000.00', 'N']], 'TC(H_BCC,FE:VA;0)': [['273.00', '+1043'], ['6000.00', 'N']], 'BMAGN(H_BCC,FE:VA;0)': [['273.00', '+2.22'], ['6000.00', 'N']]}\n"
     ]
    }
   ],
   "source": [
    "print_params(p_ob)"
   ]
  },
  {
   "cell_type": "code",
   "execution_count": 19,
   "id": "dd46adba",
   "metadata": {},
   "outputs": [
    {
     "data": {
      "text/plain": [
       "{'G(BCC_B2,AL:NI:VA;0)': [['273.00', '+0.5*B2ALNI#-0.5*LB2ALNI#'],\n",
       "  ['6000.00', 'N']],\n",
       " 'G(BCC_B2,NI:NI:VA;0)': [['273.00', '+1E-8'], ['6000.00', 'N']],\n",
       " 'G(BCC_B2,NI:AL:VA;0)': [['273.00', '+0.5*B2ALNI#-0.5*LB2ALNI#'],\n",
       "  ['6000.00', 'N']],\n",
       " 'G(BCC_B2,AL:AL:VA;0)': [['273.00', '+1E-7'], ['6000.00', 'N']],\n",
       " 'G(BCC_B2,NI:FE:VA;0)': [['273.00', '-2000'], ['6000.00', 'N']],\n",
       " 'G(BCC_B2,FE:NI:VA;0)': [['273.00', '-2000'], ['6000.00', 'N']],\n",
       " 'G(BCC_B2,AL:FE:VA;0)': [['273.00', '-15000'], ['6000.00', 'N']],\n",
       " 'G(BCC_B2,FE:AL:VA;0)': [['273.00', '-15000'], ['6000.00', 'N']],\n",
       " 'TC(BCC_B2,AL:FE:VA;0)': [['273.00', '+1e-8'], ['6000.00', 'N']],\n",
       " 'TC(BCC_B2,FE:AL:VA;0)': [['273.00', '+1e-8'], ['6000.00', 'N']],\n",
       " 'BMAGN(BCC_B2,AL:FE:VA;0)': [['273.00', '+1e-8'], ['6000.00', 'N']],\n",
       " 'BMAGN(BCC_B2,FE:AL:VA;0)': [['273.00', '+1e-8'], ['6000.00', 'N']],\n",
       " 'TC(BCC_B2,NI:FE:VA;0)': [['273.00', '+1e-8'], ['6000.00', 'N']],\n",
       " 'TC(BCC_B2,FE:NI:VA;0)': [['273.00', '+1e-8'], ['6000.00', 'N']],\n",
       " 'L(BCC_B2,AL,NI:NI:VA;0)': [['273.00', '+1e-8'], ['6000.00', 'N']],\n",
       " 'L(BCC_B2,NI:AL,NI:VA;0)': [['273.00', '+1e-8'], ['6000.00', 'N']],\n",
       " 'L(BCC_B2,AL,NI:NI:VA;1)': [['273.00', '-8000+5*T'], ['6000.00', 'N']],\n",
       " 'L(BCC_B2,NI:AL,NI:VA;1)': [['273.00', '-8000+5*T'], ['6000.00', 'N']],\n",
       " 'L(BCC_B2,AL,NI:FE:VA;0)': [['273.00', '-30000'], ['6000.00', 'N']],\n",
       " 'L(BCC_B2,FE:AL,NI:VA;0)': [['273.00', '-30000'], ['6000.00', 'N']],\n",
       " 'L(BCC_B2,AL,FE:NI:VA;0)': [['273.00', '-25000'], ['6000.00', 'N']],\n",
       " 'L(BCC_B2,NI:AL,FE:VA;0)': [['273.00', '-25000'], ['6000.00', 'N']],\n",
       " 'L(BCC_B2,FE,NI:AL:VA;0)': [['273.00', '-30000'], ['6000.00', 'N']],\n",
       " 'L(BCC_B2,FE,NI:AL:VA;1)': [['273.00', '-10000'], ['6000.00', 'N']],\n",
       " 'L(BCC_B2,FE,NI:AL:VA;2)': [['273.00', '+10000'], ['6000.00', 'N']],\n",
       " 'L(BCC_B2,AL:FE,NI:VA;0)': [['273.00', '-30000'], ['6000.00', 'N']],\n",
       " 'L(BCC_B2,AL:FE,NI:VA;1)': [['273.00', '-10000'], ['6000.00', 'N']],\n",
       " 'L(BCC_B2,AL:FE,NI:VA;2)': [['273.00', '+10000'], ['6000.00', 'N']],\n",
       " 'L(BCC_B2,AL,NI:FE:VA;1)': [['273.00', '0'], ['6000.00', 'N']],\n",
       " 'L(BCC_B2,FE:AL,NI:VA;1)': [['273.00', '0'], ['6000.00', 'N']],\n",
       " 'L(BCC_B2,AL,FE:NI:VA;1)': [['273.00', '0'], ['6000.00', 'N']],\n",
       " 'L(BCC_B2,NI:AL,FE:VA;1)': [['273.00', '0'], ['6000.00', 'N']],\n",
       " 'HMVA(BCC_A2,FE:VA;0)': [['273.00', '+163000'], ['6000.00', 'N']],\n",
       " 'HMVA(BCC_A2,FE:C;0)': [['273.00', '+163000'], ['6000.00', 'N']],\n",
       " 'G(BCC_A2,AL:VA;0)': [['273.00', '+10083-4.813*T+GHSERAL#'],\n",
       "  ['2900.00', 'N']],\n",
       " 'G(BCC_A2,FE:VA;0)': [['273.00', '+GHSERFE#'], ['6000.00', 'N']],\n",
       " 'G(BCC_A2,NI:VA;0)': [['273.00', '+8715.084-3.556*T+GHSERNI#'],\n",
       "  ['3000.00', 'N']],\n",
       " 'G(BCC_A2,AL:C;0)': [['273.00', '+GHSERAL#+3*GHSERCC#+100000+80*T'],\n",
       "  ['6000.0', 'N']],\n",
       " 'G(BCC_A2,FE:C;0)': [['273.00', '+322050+75.667*T+GHSERFE#+3*GHSERCC#'],\n",
       "  ['6000.00', 'N']],\n",
       " 'G(BCC_A2,NI:C;0)': [['273.00', '+400000-100*T+GHSERNI#+3*GHSERCC#'],\n",
       "  ['6000.00', 'N']],\n",
       " 'L(BCC_A2,AL,FE:VA;0)': [['273.00', '-122960+31.9888*T'], ['6000.00', 'N']],\n",
       " 'L(BCC_A2,AL,FE:VA;1)': [['273.00', '+3089.2'], ['6000.00', 'N']],\n",
       " 'L(BCC_A2,AL,NI:VA;0)': [['273.00', '+B2ALNI#+LB2ALNI#'], ['6000.00', 'N']],\n",
       " 'L(BCC_A2,FE,NI:VA;0)': [['273.00', '-956.63-1.28726*T'], ['6000.00', 'N']],\n",
       " 'L(BCC_A2,FE,NI:VA;1)': [['273.00', '+5000-5*T'], ['6000.00', 'N']],\n",
       " 'L(BCC_A2,AL,FE:C;0)': [['273.00', '+1e-8'], ['6000.00', 'N']],\n",
       " 'L(BCC_A2,AL,FE:C;1)': [['273.00', '+1e-8'], ['6000.00', 'N']],\n",
       " 'L(BCC_A2,FE,NI:C;0)': [['273.00', '-956.63-1.28726*T'], ['6000.00', 'N']],\n",
       " 'L(BCC_A2,FE,NI:C;1)': [['273.00', '+1789.03-1.92912*T'], ['6000.00', 'N']],\n",
       " 'L(BCC_A2,AL:C,VA;0)': [['273.00', '+130000+14*T'], ['6000.00', 'N']],\n",
       " 'L(BCC_A2,FE:C,VA;0)': [['273.00', '-190*T'], ['6000.00', 'N']],\n",
       " 'L(BCC_A2,AL,FE,NI:VA;0)': [['273.00', '-110700+34*T'], ['6000.00', 'N']],\n",
       " 'L(BCC_A2,AL,FE,NI:VA;1)': [['273.00', '-27000-1.1*T'], ['6000.00', 'N']],\n",
       " 'L(BCC_A2,AL,FE,NI:VA;2)': [['273.00', '-204500+107*T'], ['6000.00', 'N']],\n",
       " 'TC(BCC_A2,FE:VA;0)': [['273.00', '+1043'], ['6000.00', 'N']],\n",
       " 'BMAGN(BCC_A2,FE:VA;0)': [['273.00', '+2.22'], ['6000.00', 'N']],\n",
       " 'TC(BCC_A2,NI:VA;0)': [['273.00', '+575'], ['6000.00', 'N']],\n",
       " 'BMAGN(BCC_A2,NI:VA;0)': [['273.00', '+0.85'], ['6000.00', 'N']],\n",
       " 'TC(BCC_A2,AL,FE:VA;1)': [['273.00', '+504'], ['6000.00', 'N']],\n",
       " 'TC(BCC_A2,FE:C;0)': [['273.00', '+1043'], ['6000.00', 'N']],\n",
       " 'BMAGN(BCC_A2,FE:C;0)': [['273.00', '+2.22'], ['6000.00', 'N']],\n",
       " 'TC(BCC_A2,NI:C;0)': [['273.00', '+575'], ['6000.00', 'N']],\n",
       " 'BMAGN(BCC_A2,NI:C;0)': [['273.00', '+0.85'], ['6000.00', 'N']]}"
      ]
     },
     "execution_count": 19,
     "metadata": {},
     "output_type": "execute_result"
    }
   ],
   "source": [
    "p_ob[1].parameters"
   ]
  },
  {
   "cell_type": "code",
   "execution_count": null,
   "id": "2854b072",
   "metadata": {},
   "outputs": [],
   "source": []
  }
 ],
 "metadata": {
  "kernelspec": {
   "display_name": "Python 3 (ipykernel)",
   "language": "python",
   "name": "python3"
  },
  "language_info": {
   "codemirror_mode": {
    "name": "ipython",
    "version": 3
   },
   "file_extension": ".py",
   "mimetype": "text/x-python",
   "name": "python",
   "nbconvert_exporter": "python",
   "pygments_lexer": "ipython3",
   "version": "3.9.13"
  }
 },
 "nbformat": 4,
 "nbformat_minor": 5
}
